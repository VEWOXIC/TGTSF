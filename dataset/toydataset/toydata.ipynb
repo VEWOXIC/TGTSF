{
 "cells": [
  {
   "cell_type": "code",
   "execution_count": 1,
   "metadata": {},
   "outputs": [],
   "source": [
    "import pandas as pd\n",
    "import numpy as np\n",
    "import os\n",
    "import requests\n",
    "import json\n",
    "from tqdm import tqdm\n",
    "import re\n",
    "import matplotlib.pyplot as plt\n",
    "import time\n"
   ]
  },
  {
   "cell_type": "code",
   "execution_count": 2,
   "metadata": {},
   "outputs": [],
   "source": [
    "# a function to generate sin wave with given period(int) and number of periods(float)\n",
    "def sin_wave(period, num_periods):\n",
    "    x = np.arange(period * num_periods)\n",
    "    y = np.sin(2 * np.pi * (x / period))\n",
    "    return y"
   ]
  },
  {
   "cell_type": "code",
   "execution_count": 9,
   "metadata": {},
   "outputs": [],
   "source": [
    "# 创建一个dataframe 有 date, value, text 三列\n",
    "df = pd.DataFrame(columns=['date', 'value', 'text'])\n",
    "\n",
    "# 生成一些sin wave 拥有递增的date\n",
    "for i in range(1, 4):\n",
    "    y = sin_wave(30, 3)\n",
    "    y = y + np.random.normal(0, 0.3, len(y))\n",
    "    df_tmp = pd.DataFrame({'date': pd.date_range('2020-01-01', periods=len(y), freq='min'), 'value': y})\n",
    "    df_tmp['text'] = df_tmp['value']\n",
    "    df = pd.concat([df, df_tmp], axis=0)"
   ]
  },
  {
   "cell_type": "code",
   "execution_count": 18,
   "metadata": {},
   "outputs": [],
   "source": [
    "def gen_data(periods, numbers_of_periods, advance_alert_days=15):\n",
    "    df = pd.DataFrame(columns=['date', 'Channel 1', 'text'])\n",
    "    for i in range(len(periods)):\n",
    "        y = sin_wave(periods[i], numbers_of_periods[i])\n",
    "        # y = y + np.random.normal(0, 0.3, len(y))\n",
    "        df_tmp = pd.DataFrame({'date': pd.date_range('2020-01-01', periods=len(y), freq='D'), 'Channel 1': y})\n",
    "        # df_tmp['text'] = df_tmp['value']\n",
    "        # set all the text as 'The time series goes as a steady sine wave'\n",
    "        df_tmp['text'] = 'The channel 1 goes as a steady sine wave'\n",
    "        # set the last 15 days' text as 'The period will be changed to 15 in i days'\n",
    "        if i != len(periods)-1:\n",
    "            l=len(df_tmp)\n",
    "            for j in range(advance_alert_days):\n",
    "                if l-j-1>=0:\n",
    "                    df_tmp.loc[l-j-1, 'text'] = 'The period on channel 1 will be changed to {} in {} days'.format(periods[i+1], j+1)\n",
    "                else:\n",
    "                    break\n",
    "        #         # df_tmp.loc[len(df_tmp)-15:, 'text'] = 'The period will be changed to {} in i days'.format(periods[i+1])\n",
    "        # print(df_tmp)\n",
    "\n",
    "        for j in range(min(5, len(df_tmp)//3)):\n",
    "            df_tmp.loc[j, 'text'] = 'The channel 1 period is {} and goes steady'.format(periods[i])\n",
    "        df = pd.concat([df, df_tmp], axis=0)\n",
    "    # 使 index 也从0开始递增\n",
    "    df.reset_index(drop=True, inplace=True)\n",
    "    # 使 date 从 2020-01-01 开始递增\n",
    "    df['date'] = pd.date_range('1800-01-01', periods=len(df), freq='min')\n",
    "\n",
    "    return df"
   ]
  },
  {
   "cell_type": "code",
   "execution_count": 14,
   "metadata": {},
   "outputs": [
    {
     "data": {
      "text/plain": [
       "array([24, 35, 35, 55, 75, 57, 60, 89, 49, 37])"
      ]
     },
     "execution_count": 14,
     "metadata": {},
     "output_type": "execute_result"
    }
   ],
   "source": [
    "# generage 10 random integers between 10 and 100\n",
    "periods = np.random.randint(10, 100, 10)\n",
    "periods"
   ]
  },
  {
   "cell_type": "code",
   "execution_count": 19,
   "metadata": {},
   "outputs": [],
   "source": [
    "a = gen_data(np.random.randint(2, 20, 500)*7, np.random.randint(2, 10, 500), 15)"
   ]
  },
  {
   "cell_type": "code",
   "execution_count": 20,
   "metadata": {},
   "outputs": [
    {
     "data": {
      "text/plain": [
       "<AxesSubplot:>"
      ]
     },
     "execution_count": 20,
     "metadata": {},
     "output_type": "execute_result"
    },
    {
     "data": {
      "image/png": "[encoded data removed]",
      "text/plain": [
       "<Figure size 432x288 with 1 Axes>"
      ]
     },
     "metadata": {
      "needs_background": "light"
     },
     "output_type": "display_data"
    }
   ],
   "source": [
    "a['Channel 1'].plot()"
   ]
  },
  {
   "cell_type": "code",
   "execution_count": 21,
   "metadata": {},
   "outputs": [
    {
     "data": {
      "text/html": [
       "<div>\n",
       "<style scoped>\n",
       "    .dataframe tbody tr th:only-of-type {\n",
       "        vertical-align: middle;\n",
       "    }\n",
       "\n",
       "    .dataframe tbody tr th {\n",
       "        vertical-align: top;\n",
       "    }\n",
       "\n",
       "    .dataframe thead th {\n",
       "        text-align: right;\n",
       "    }\n",
       "</style>\n",
       "<table border=\"1\" class=\"dataframe\">\n",
       "  <thead>\n",
       "    <tr style=\"text-align: right;\">\n",
       "      <th></th>\n",
       "      <th>date</th>\n",
       "      <th>Channel 1</th>\n",
       "      <th>text</th>\n",
       "    </tr>\n",
       "  </thead>\n",
       "  <tbody>\n",
       "    <tr>\n",
       "      <th>0</th>\n",
       "      <td>1800-01-01 00:00:00</td>\n",
       "      <td>0.000000</td>\n",
       "      <td>The channel 1 period is 84 and goes steady</td>\n",
       "    </tr>\n",
       "    <tr>\n",
       "      <th>1</th>\n",
       "      <td>1800-01-01 00:01:00</td>\n",
       "      <td>0.074730</td>\n",
       "      <td>The channel 1 period is 84 and goes steady</td>\n",
       "    </tr>\n",
       "    <tr>\n",
       "      <th>2</th>\n",
       "      <td>1800-01-01 00:02:00</td>\n",
       "      <td>0.149042</td>\n",
       "      <td>The channel 1 period is 84 and goes steady</td>\n",
       "    </tr>\n",
       "    <tr>\n",
       "      <th>3</th>\n",
       "      <td>1800-01-01 00:03:00</td>\n",
       "      <td>0.222521</td>\n",
       "      <td>The channel 1 period is 84 and goes steady</td>\n",
       "    </tr>\n",
       "    <tr>\n",
       "      <th>4</th>\n",
       "      <td>1800-01-01 00:04:00</td>\n",
       "      <td>0.294755</td>\n",
       "      <td>The channel 1 period is 84 and goes steady</td>\n",
       "    </tr>\n",
       "    <tr>\n",
       "      <th>...</th>\n",
       "      <td>...</td>\n",
       "      <td>...</td>\n",
       "      <td>...</td>\n",
       "    </tr>\n",
       "    <tr>\n",
       "      <th>196107</th>\n",
       "      <td>1800-05-17 04:27:00</td>\n",
       "      <td>-0.478254</td>\n",
       "      <td>The channel 1 goes as a steady sine wave</td>\n",
       "    </tr>\n",
       "    <tr>\n",
       "      <th>196108</th>\n",
       "      <td>1800-05-17 04:28:00</td>\n",
       "      <td>-0.388435</td>\n",
       "      <td>The channel 1 goes as a steady sine wave</td>\n",
       "    </tr>\n",
       "    <tr>\n",
       "      <th>196109</th>\n",
       "      <td>1800-05-17 04:29:00</td>\n",
       "      <td>-0.294755</td>\n",
       "      <td>The channel 1 goes as a steady sine wave</td>\n",
       "    </tr>\n",
       "    <tr>\n",
       "      <th>196110</th>\n",
       "      <td>1800-05-17 04:30:00</td>\n",
       "      <td>-0.198146</td>\n",
       "      <td>The channel 1 goes as a steady sine wave</td>\n",
       "    </tr>\n",
       "    <tr>\n",
       "      <th>196111</th>\n",
       "      <td>1800-05-17 04:31:00</td>\n",
       "      <td>-0.099568</td>\n",
       "      <td>The channel 1 goes as a steady sine wave</td>\n",
       "    </tr>\n",
       "  </tbody>\n",
       "</table>\n",
       "<p>196112 rows × 3 columns</p>\n",
       "</div>"
      ],
      "text/plain": [
       "                      date  Channel 1  \\\n",
       "0      1800-01-01 00:00:00   0.000000   \n",
       "1      1800-01-01 00:01:00   0.074730   \n",
       "2      1800-01-01 00:02:00   0.149042   \n",
       "3      1800-01-01 00:03:00   0.222521   \n",
       "4      1800-01-01 00:04:00   0.294755   \n",
       "...                    ...        ...   \n",
       "196107 1800-05-17 04:27:00  -0.478254   \n",
       "196108 1800-05-17 04:28:00  -0.388435   \n",
       "196109 1800-05-17 04:29:00  -0.294755   \n",
       "196110 1800-05-17 04:30:00  -0.198146   \n",
       "196111 1800-05-17 04:31:00  -0.099568   \n",
       "\n",
       "                                              text  \n",
       "0       The channel 1 period is 84 and goes steady  \n",
       "1       The channel 1 period is 84 and goes steady  \n",
       "2       The channel 1 period is 84 and goes steady  \n",
       "3       The channel 1 period is 84 and goes steady  \n",
       "4       The channel 1 period is 84 and goes steady  \n",
       "...                                            ...  \n",
       "196107    The channel 1 goes as a steady sine wave  \n",
       "196108    The channel 1 goes as a steady sine wave  \n",
       "196109    The channel 1 goes as a steady sine wave  \n",
       "196110    The channel 1 goes as a steady sine wave  \n",
       "196111    The channel 1 goes as a steady sine wave  \n",
       "\n",
       "[196112 rows x 3 columns]"
      ]
     },
     "execution_count": 21,
     "metadata": {},
     "output_type": "execute_result"
    }
   ],
   "source": [
    "a"
   ]
  },
  {
   "cell_type": "code",
   "execution_count": 16,
   "metadata": {},
   "outputs": [],
   "source": [
    "# save the dataframe as csv file with sep |\n",
    "a.to_csv('toydata_with_text.csv', index=False)"
   ]
  },
  {
   "cell_type": "code",
   "execution_count": 19,
   "metadata": {},
   "outputs": [],
   "source": [
    "# remove the text column and save again\n",
    "a.drop('text', axis=1).to_csv('toydata.csv', index=False)"
   ]
  },
  {
   "cell_type": "code",
   "execution_count": 17,
   "metadata": {},
   "outputs": [
    {
     "data": {
      "text/plain": [
       "<AxesSubplot:>"
      ]
     },
     "execution_count": 17,
     "metadata": {},
     "output_type": "execute_result"
    },
    {
     "data": {
      "image/png": "[encoded data removed]",
      "text/plain": [
       "<Figure size 432x288 with 1 Axes>"
      ]
     },
     "metadata": {
      "needs_background": "light"
     },
     "output_type": "display_data"
    }
   ],
   "source": [
    "df['value'].plot()"
   ]
  }
 ],
 "metadata": {
  "kernelspec": {
   "display_name": "neuralforecast",
   "language": "python",
   "name": "python3"
  },
  "language_info": {
   "codemirror_mode": {
    "name": "ipython",
    "version": 3
   },
   "file_extension": ".py",
   "mimetype": "text/x-python",
   "name": "python",
   "nbconvert_exporter": "python",
   "pygments_lexer": "ipython3",
   "version": "3.8.16"
  }
 },
 "nbformat": 4,
 "nbformat_minor": 2
}
