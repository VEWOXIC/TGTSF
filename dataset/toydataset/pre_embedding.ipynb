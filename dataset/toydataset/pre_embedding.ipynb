{
 "cells": [
  {
   "cell_type": "markdown",
   "metadata": {},
   "source": [
    "# Pre Embedding the News with BERT"
   ]
  },
  {
   "cell_type": "code",
   "execution_count": 2,
   "metadata": {},
   "outputs": [],
   "source": [
    "BERT_model= 'paraphrase-MiniLM-L6-v2' #'all-mpnet-base-v2'"
   ]
  },
  {
   "cell_type": "code",
   "execution_count": 14,
   "metadata": {},
   "outputs": [],
   "source": [
    "import os\n",
    "save_dir='./News-embedding-'+BERT_model\n",
    "if not os.path.exists(save_dir):\n",
    "    os.makedirs(save_dir)\n"
   ]
  },
  {
   "cell_type": "markdown",
   "metadata": {},
   "source": [
    "## Initilize the Embedding model"
   ]
  },
  {
   "cell_type": "code",
   "execution_count": 4,
   "metadata": {},
   "outputs": [],
   "source": [
    "from sentence_transformers import SentenceTransformer\n",
    "model = SentenceTransformer(BERT_model).to('cuda:0')"
   ]
  },
  {
   "cell_type": "code",
   "execution_count": 5,
   "metadata": {},
   "outputs": [],
   "source": [
    "import pandas as pd\n",
    "import numpy as np\n",
    "from matplotlib import pyplot as plt\n",
    "from tqdm import tqdm"
   ]
  },
  {
   "cell_type": "markdown",
   "metadata": {},
   "source": [
    "## Read the news data with seperation symbol as |"
   ]
  },
  {
   "cell_type": "code",
   "execution_count": 6,
   "metadata": {},
   "outputs": [],
   "source": [
    "df=pd.read_csv('./toydata_with_text.csv')"
   ]
  },
  {
   "cell_type": "code",
   "execution_count": 7,
   "metadata": {},
   "outputs": [
    {
     "data": {
      "text/html": [
       "<div>\n",
       "<style scoped>\n",
       "    .dataframe tbody tr th:only-of-type {\n",
       "        vertical-align: middle;\n",
       "    }\n",
       "\n",
       "    .dataframe tbody tr th {\n",
       "        vertical-align: top;\n",
       "    }\n",
       "\n",
       "    .dataframe thead th {\n",
       "        text-align: right;\n",
       "    }\n",
       "</style>\n",
       "<table border=\"1\" class=\"dataframe\">\n",
       "  <thead>\n",
       "    <tr style=\"text-align: right;\">\n",
       "      <th></th>\n",
       "      <th>date</th>\n",
       "      <th>Channel 1</th>\n",
       "      <th>text</th>\n",
       "    </tr>\n",
       "  </thead>\n",
       "  <tbody>\n",
       "    <tr>\n",
       "      <th>0</th>\n",
       "      <td>1800-01-01 00:00:00</td>\n",
       "      <td>0.000000</td>\n",
       "      <td>The channel 1 period is 84 and goes steady</td>\n",
       "    </tr>\n",
       "    <tr>\n",
       "      <th>1</th>\n",
       "      <td>1800-01-01 00:01:00</td>\n",
       "      <td>0.074730</td>\n",
       "      <td>The channel 1 period is 84 and goes steady</td>\n",
       "    </tr>\n",
       "    <tr>\n",
       "      <th>2</th>\n",
       "      <td>1800-01-01 00:02:00</td>\n",
       "      <td>0.149042</td>\n",
       "      <td>The channel 1 period is 84 and goes steady</td>\n",
       "    </tr>\n",
       "    <tr>\n",
       "      <th>3</th>\n",
       "      <td>1800-01-01 00:03:00</td>\n",
       "      <td>0.222521</td>\n",
       "      <td>The channel 1 period is 84 and goes steady</td>\n",
       "    </tr>\n",
       "    <tr>\n",
       "      <th>4</th>\n",
       "      <td>1800-01-01 00:04:00</td>\n",
       "      <td>0.294755</td>\n",
       "      <td>The channel 1 period is 84 and goes steady</td>\n",
       "    </tr>\n",
       "  </tbody>\n",
       "</table>\n",
       "</div>"
      ],
      "text/plain": [
       "                  date  Channel 1                                        text\n",
       "0  1800-01-01 00:00:00   0.000000  The channel 1 period is 84 and goes steady\n",
       "1  1800-01-01 00:01:00   0.074730  The channel 1 period is 84 and goes steady\n",
       "2  1800-01-01 00:02:00   0.149042  The channel 1 period is 84 and goes steady\n",
       "3  1800-01-01 00:03:00   0.222521  The channel 1 period is 84 and goes steady\n",
       "4  1800-01-01 00:04:00   0.294755  The channel 1 period is 84 and goes steady"
      ]
     },
     "execution_count": 7,
     "metadata": {},
     "output_type": "execute_result"
    }
   ],
   "source": [
    "df.head()"
   ]
  },
  {
   "cell_type": "code",
   "execution_count": 8,
   "metadata": {},
   "outputs": [
    {
     "data": {
      "text/plain": [
       "(Timestamp('1800-01-01 00:00:00'), Timestamp('1800-05-17 04:31:00'))"
      ]
     },
     "execution_count": 8,
     "metadata": {},
     "output_type": "execute_result"
    }
   ],
   "source": [
    "# get the Date range of the news\n",
    "df['date'] = pd.to_datetime(df['date'])\n",
    "df['date'].min(), df['date'].max()"
   ]
  },
  {
   "cell_type": "markdown",
   "metadata": {},
   "source": [
    "## Get the embedding news in daily basis and save as individual file"
   ]
  },
  {
   "cell_type": "code",
   "execution_count": 22,
   "metadata": {},
   "outputs": [
    {
     "name": "stderr",
     "output_type": "stream",
     "text": [
      "Processing Dates: 100%|██████████| 196112/196112 [19:48<00:00, 165.03it/s, CurrentDate=1800-05-17 02:39:00 News=500]\n"
     ]
    }
   ],
   "source": [
    "empty_date=[]\n",
    "# use tqdm to show the progress\n",
    "\n",
    "progress_bar = tqdm(pd.date_range(start=df['date'].min(), end=df['date'].max(),freq='min'), desc=\"Processing Dates\")\n",
    "days=[]\n",
    "for day in progress_bar:\n",
    "    if len(days)<499:\n",
    "        days.append(day)\n",
    "        # print(len(days))\n",
    "        continue\n",
    "    \n",
    "    days.append(day)\n",
    "    # get the news of the day\n",
    "    # news = list(df[df['date'] == days]['text'])\n",
    "    news = list(df.loc[df['date'].isin(days)]['text'])\n",
    "    # get the embedding of the news\n",
    "    news_embedding = model.encode(news)\n",
    "    # normalize the embedding\n",
    "    news_embedding = news_embedding / np.linalg.norm(news_embedding, axis=1, keepdims=True)\n",
    "    for d in range(len(days)):\n",
    "        # save the embedding\n",
    "        np.save(os.path.join(save_dir,'News-'+str(days[d])+'.npy'), news_embedding[d:d+1,:])\n",
    "        progress_bar.set_postfix(CurrentDate=str(day)+' News='+str(len(news)))\n",
    "    days=[]"
   ]
  },
  {
   "cell_type": "markdown",
   "metadata": {},
   "source": [
    "## Check empty date"
   ]
  },
  {
   "cell_type": "code",
   "execution_count": 9,
   "metadata": {},
   "outputs": [
    {
     "data": {
      "text/plain": [
       "642"
      ]
     },
     "execution_count": 9,
     "metadata": {},
     "output_type": "execute_result"
    }
   ],
   "source": [
    "len(empty_date)"
   ]
  }
 ],
 "metadata": {
  "kernelspec": {
   "display_name": "neuralforecast",
   "language": "python",
   "name": "python3"
  },
  "language_info": {
   "codemirror_mode": {
    "name": "ipython",
    "version": 3
   },
   "file_extension": ".py",
   "mimetype": "text/x-python",
   "name": "python",
   "nbconvert_exporter": "python",
   "pygments_lexer": "ipython3",
   "version": "3.8.16"
  }
 },
 "nbformat": 4,
 "nbformat_minor": 2
}
